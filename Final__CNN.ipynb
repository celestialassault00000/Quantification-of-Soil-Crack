{
  "nbformat": 4,
  "nbformat_minor": 0,
  "metadata": {
    "colab": {
      "provenance": []
    },
    "kernelspec": {
      "name": "python3",
      "display_name": "Python 3"
    },
    "language_info": {
      "name": "python"
    }
  },
  "cells": [
    {
      "cell_type": "code",
      "execution_count": null,
      "metadata": {
        "colab": {
          "base_uri": "https://localhost:8080/"
        },
        "id": "CpYvJJ1gfWnw",
        "outputId": "7e54cc2d-c669-48e0-aeb2-aa9d88a78f76"
      },
      "outputs": [
        {
          "output_type": "stream",
          "name": "stdout",
          "text": [
            "Mounted at /content/gdrive\n"
          ]
        }
      ],
      "source": [
        "from google.colab import drive\n",
        "drive.mount(\"/content/gdrive\")"
      ]
    },
    {
      "cell_type": "code",
      "source": [
        "from keras.preprocessing.image import ImageDataGenerator"
      ],
      "metadata": {
        "id": "2wDKnXxjgt7A"
      },
      "execution_count": null,
      "outputs": []
    },
    {
      "cell_type": "code",
      "source": [
        "import keras\n",
        "import cv2\n",
        "import os\n",
        "import glob\n",
        "datagen = ImageDataGenerator(rotation_range =10,\n",
        "                         width_shift_range = 0.2,\n",
        "                         height_shift_range = 0.2,\n",
        "                         rescale=1./255,\n",
        "                         shear_range=0.2,\n",
        "                         zoom_range=0.2,\n",
        "                         horizontal_flip = True,\n",
        "                         fill_mode = 'nearest',\n",
        "                         data_format='channels_last',\n",
        "                         brightness_range=[0.1, 2])"
      ],
      "metadata": {
        "id": "L7rDYAV6gJ_h"
      },
      "execution_count": null,
      "outputs": []
    },
    {
      "cell_type": "code",
      "source": [
        "datagen.flow_from_directory(\"/content/gdrive/MyDrive/Train\",batch_size=1,class_mode=\"categorical\")"
      ],
      "metadata": {
        "colab": {
          "base_uri": "https://localhost:8080/"
        },
        "id": "EGfKvrR3gZzF",
        "outputId": "0d00e991-8263-406b-ec33-388f24b4240c"
      },
      "execution_count": null,
      "outputs": [
        {
          "output_type": "stream",
          "name": "stdout",
          "text": [
            "Found 8210 images belonging to 2 classes.\n"
          ]
        },
        {
          "output_type": "execute_result",
          "data": {
            "text/plain": [
              "<keras.preprocessing.image.DirectoryIterator at 0x7fc899c69f50>"
            ]
          },
          "metadata": {},
          "execution_count": 4
        }
      ]
    },
    {
      "cell_type": "code",
      "source": [
        "train_datagen = ImageDataGenerator(rescale=1./255,\n",
        "\n",
        "    horizontal_flip=True,\n",
        "    validation_split=0.3) # set validation split\n",
        "\n",
        "train_generator = train_datagen.flow_from_directory(\"/content/gdrive/MyDrive/Train\"\n",
        "    ,\n",
        "    batch_size=1,color_mode= \"grayscale\",\n",
        "    class_mode='binary',target_size=(32,32),\n",
        "    subset='training') # set as training data\n",
        "\n",
        "validation_generator = train_datagen.flow_from_directory(\n",
        "    \"/content/gdrive/MyDrive/Train\",color_mode= \"grayscale\", # same directory as training data\n",
        "    batch_size=1,target_size=(32,32),\n",
        "    class_mode='binary',subset='validation') # set as validation data\n",
        "\n",
        "\n",
        "test_data = train_datagen.flow_from_directory(\n",
        "    \"/content/gdrive/MyDrive/data\",color_mode= \"grayscale\", # same directory as training data\n",
        "    batch_size=1,target_size=(32,32),\n",
        "    class_mode='binary') # set as validation data"
      ],
      "metadata": {
        "colab": {
          "base_uri": "https://localhost:8080/"
        },
        "id": "gNZWxpsIgogs",
        "outputId": "dce79251-3b8d-4a19-8f75-e5388a25b164"
      },
      "execution_count": null,
      "outputs": [
        {
          "output_type": "stream",
          "name": "stdout",
          "text": [
            "Found 19747 images belonging to 2 classes.\n",
            "Found 8463 images belonging to 2 classes.\n",
            "Found 596 images belonging to 2 classes.\n"
          ]
        }
      ]
    },
    {
      "cell_type": "code",
      "source": [
        "from keras.models import load_model\n",
        "from keras.applications.vgg16 import preprocess_input\n",
        "from keras.applications.vgg16 import decode_predictions\n",
        "from keras.applications.vgg16 import VGG16\n",
        "import numpy as np\n",
        "\n",
        "from keras.models import load_model\n",
        "import tensorflow as tf\n",
        "optimizer = tf.optimizers.Adam(lr=0.001, beta_1=0.9, beta_2=0.999, epsilon=None, decay=0.0, amsgrad=False)\n",
        "model = keras.models.Sequential()\n",
        "model.add(keras.layers.Conv2D(32, (2, 2), input_shape=(32,32,1)))\n",
        "model.add(keras.layers.Activation('relu'))\n",
        "model.add(keras.layers.MaxPooling2D(pool_size=(2, 2)))\n",
        "\n",
        "model.add(keras.layers.Conv2D(32, (2, 2)))\n",
        "model.add(keras.layers.Activation('relu'))\n",
        "model.add(keras.layers.MaxPooling2D(pool_size=(2, 2)))\n",
        "\n",
        "model.add(keras.layers.Conv2D(64, (2, 2)))\n",
        "model.add(keras.layers.Activation('relu'))\n",
        "model.add(keras.layers.MaxPooling2D(pool_size=(2, 2)))\n",
        "\n",
        "model.add(keras.layers.Flatten())\n",
        "model.add(keras.layers.Dense(64))\n",
        "model.add(keras.layers.Activation('relu'))\n",
        "#model.add(keras.layers.Dropout(0.5))\n",
        "model.add(keras.layers.Dense(1))\n",
        "model.add(keras.layers.Activation('sigmoid'))\n",
        "model.compile(loss='binary_crossentropy',\n",
        "\t\t\toptimizer=optimizer,\n",
        "\t\t\tmetrics=['accuracy'])\n"
      ],
      "metadata": {
        "colab": {
          "base_uri": "https://localhost:8080/"
        },
        "id": "qepaBpYuiQdN",
        "outputId": "e8c03d5b-270d-4285-8942-aec6a5d25f41"
      },
      "execution_count": null,
      "outputs": [
        {
          "output_type": "stream",
          "name": "stderr",
          "text": [
            "/usr/local/lib/python3.7/dist-packages/keras/optimizers/optimizer_v2/adam.py:110: UserWarning: The `lr` argument is deprecated, use `learning_rate` instead.\n",
            "  super(Adam, self).__init__(name, **kwargs)\n"
          ]
        },
        {
          "output_type": "error",
          "ename": "NameError",
          "evalue": "ignored",
          "traceback": [
            "\u001b[0;31m---------------------------------------------------------------------------\u001b[0m",
            "\u001b[0;31mNameError\u001b[0m                                 Traceback (most recent call last)",
            "\u001b[0;32m<ipython-input-1-0aae697f0046>\u001b[0m in \u001b[0;36m<module>\u001b[0;34m\u001b[0m\n\u001b[1;32m      8\u001b[0m \u001b[0;32mimport\u001b[0m \u001b[0mtensorflow\u001b[0m \u001b[0;32mas\u001b[0m \u001b[0mtf\u001b[0m\u001b[0;34m\u001b[0m\u001b[0;34m\u001b[0m\u001b[0m\n\u001b[1;32m      9\u001b[0m \u001b[0moptimizer\u001b[0m \u001b[0;34m=\u001b[0m \u001b[0mtf\u001b[0m\u001b[0;34m.\u001b[0m\u001b[0moptimizers\u001b[0m\u001b[0;34m.\u001b[0m\u001b[0mAdam\u001b[0m\u001b[0;34m(\u001b[0m\u001b[0mlr\u001b[0m\u001b[0;34m=\u001b[0m\u001b[0;36m0.001\u001b[0m\u001b[0;34m,\u001b[0m \u001b[0mbeta_1\u001b[0m\u001b[0;34m=\u001b[0m\u001b[0;36m0.9\u001b[0m\u001b[0;34m,\u001b[0m \u001b[0mbeta_2\u001b[0m\u001b[0;34m=\u001b[0m\u001b[0;36m0.999\u001b[0m\u001b[0;34m,\u001b[0m \u001b[0mepsilon\u001b[0m\u001b[0;34m=\u001b[0m\u001b[0;32mNone\u001b[0m\u001b[0;34m,\u001b[0m \u001b[0mdecay\u001b[0m\u001b[0;34m=\u001b[0m\u001b[0;36m0.0\u001b[0m\u001b[0;34m,\u001b[0m \u001b[0mamsgrad\u001b[0m\u001b[0;34m=\u001b[0m\u001b[0;32mFalse\u001b[0m\u001b[0;34m)\u001b[0m\u001b[0;34m\u001b[0m\u001b[0;34m\u001b[0m\u001b[0m\n\u001b[0;32m---> 10\u001b[0;31m \u001b[0mmodel\u001b[0m \u001b[0;34m=\u001b[0m \u001b[0mkeras\u001b[0m\u001b[0;34m.\u001b[0m\u001b[0mmodels\u001b[0m\u001b[0;34m.\u001b[0m\u001b[0mSequential\u001b[0m\u001b[0;34m(\u001b[0m\u001b[0;34m)\u001b[0m\u001b[0;34m\u001b[0m\u001b[0;34m\u001b[0m\u001b[0m\n\u001b[0m\u001b[1;32m     11\u001b[0m \u001b[0mmodel\u001b[0m\u001b[0;34m.\u001b[0m\u001b[0madd\u001b[0m\u001b[0;34m(\u001b[0m\u001b[0mkeras\u001b[0m\u001b[0;34m.\u001b[0m\u001b[0mlayers\u001b[0m\u001b[0;34m.\u001b[0m\u001b[0mConv2D\u001b[0m\u001b[0;34m(\u001b[0m\u001b[0;36m32\u001b[0m\u001b[0;34m,\u001b[0m \u001b[0;34m(\u001b[0m\u001b[0;36m2\u001b[0m\u001b[0;34m,\u001b[0m \u001b[0;36m2\u001b[0m\u001b[0;34m)\u001b[0m\u001b[0;34m,\u001b[0m \u001b[0minput_shape\u001b[0m\u001b[0;34m=\u001b[0m\u001b[0;34m(\u001b[0m\u001b[0;36m32\u001b[0m\u001b[0;34m,\u001b[0m\u001b[0;36m32\u001b[0m\u001b[0;34m,\u001b[0m\u001b[0;36m1\u001b[0m\u001b[0;34m)\u001b[0m\u001b[0;34m)\u001b[0m\u001b[0;34m)\u001b[0m\u001b[0;34m\u001b[0m\u001b[0;34m\u001b[0m\u001b[0m\n\u001b[1;32m     12\u001b[0m \u001b[0mmodel\u001b[0m\u001b[0;34m.\u001b[0m\u001b[0madd\u001b[0m\u001b[0;34m(\u001b[0m\u001b[0mkeras\u001b[0m\u001b[0;34m.\u001b[0m\u001b[0mlayers\u001b[0m\u001b[0;34m.\u001b[0m\u001b[0mActivation\u001b[0m\u001b[0;34m(\u001b[0m\u001b[0;34m'relu'\u001b[0m\u001b[0;34m)\u001b[0m\u001b[0;34m)\u001b[0m\u001b[0;34m\u001b[0m\u001b[0;34m\u001b[0m\u001b[0m\n",
            "\u001b[0;31mNameError\u001b[0m: name 'keras' is not defined"
          ]
        }
      ]
    },
    {
      "cell_type": "code",
      "source": [
        "model.summary()"
      ],
      "metadata": {
        "id": "zpC_bazRlprh"
      },
      "execution_count": null,
      "outputs": []
    },
    {
      "cell_type": "code",
      "source": [
        "\n",
        "history = model.fit(train_generator,\n",
        "      steps_per_epoch=100,\n",
        "      epochs=15,\n",
        "      verbose=1,\n",
        "      validation_data = validation_generator,\n",
        "      validation_steps=20)"
      ],
      "metadata": {
        "colab": {
          "base_uri": "https://localhost:8080/"
        },
        "id": "HE6ukO7TitVS",
        "outputId": "487ba112-0d4c-41b8-e70d-868369b1e37d"
      },
      "execution_count": null,
      "outputs": [
        {
          "output_type": "stream",
          "name": "stdout",
          "text": [
            "Epoch 1/15\n",
            "100/100 [==============================] - 52s 510ms/step - loss: 0.6837 - accuracy: 0.6600 - val_loss: 0.4126 - val_accuracy: 0.9000\n",
            "Epoch 2/15\n",
            "100/100 [==============================] - 49s 493ms/step - loss: 0.5480 - accuracy: 0.7300 - val_loss: 0.3274 - val_accuracy: 0.8000\n",
            "Epoch 3/15\n",
            "100/100 [==============================] - 47s 475ms/step - loss: 0.3539 - accuracy: 0.7400 - val_loss: 0.3890 - val_accuracy: 1.0000\n",
            "Epoch 4/15\n",
            "100/100 [==============================] - 49s 491ms/step - loss: 0.2713 - accuracy: 0.9300 - val_loss: 0.3336 - val_accuracy: 0.8500\n",
            "Epoch 5/15\n",
            "100/100 [==============================] - 51s 495ms/step - loss: 0.1454 - accuracy: 0.9400 - val_loss: 0.1943 - val_accuracy: 0.9000\n",
            "Epoch 6/15\n",
            "100/100 [==============================] - 48s 482ms/step - loss: 0.0772 - accuracy: 0.9700 - val_loss: 0.0135 - val_accuracy: 1.0000\n",
            "Epoch 7/15\n",
            "100/100 [==============================] - 50s 498ms/step - loss: 0.2809 - accuracy: 0.9200 - val_loss: 0.0947 - val_accuracy: 1.0000\n",
            "Epoch 8/15\n",
            "100/100 [==============================] - 47s 472ms/step - loss: 0.0936 - accuracy: 0.9900 - val_loss: 0.0586 - val_accuracy: 1.0000\n",
            "Epoch 9/15\n",
            "100/100 [==============================] - 49s 494ms/step - loss: 0.0813 - accuracy: 0.9800 - val_loss: 0.1124 - val_accuracy: 0.9500\n",
            "Epoch 10/15\n",
            "100/100 [==============================] - 47s 470ms/step - loss: 0.1182 - accuracy: 0.9600 - val_loss: 0.0293 - val_accuracy: 1.0000\n",
            "Epoch 11/15\n",
            "100/100 [==============================] - 46s 467ms/step - loss: 0.0670 - accuracy: 0.9800 - val_loss: 0.0462 - val_accuracy: 1.0000\n",
            "Epoch 12/15\n",
            "100/100 [==============================] - 48s 482ms/step - loss: 0.0154 - accuracy: 1.0000 - val_loss: 0.0061 - val_accuracy: 1.0000\n",
            "Epoch 13/15\n",
            "100/100 [==============================] - 42s 415ms/step - loss: 0.0991 - accuracy: 0.9700 - val_loss: 0.0092 - val_accuracy: 1.0000\n",
            "Epoch 14/15\n",
            "100/100 [==============================] - 53s 531ms/step - loss: 0.0373 - accuracy: 0.9900 - val_loss: 0.0101 - val_accuracy: 1.0000\n",
            "Epoch 15/15\n",
            "100/100 [==============================] - 44s 437ms/step - loss: 0.1217 - accuracy: 0.9600 - val_loss: 0.0264 - val_accuracy: 1.0000\n"
          ]
        }
      ]
    },
    {
      "cell_type": "code",
      "source": [
        "model.evaluate(test_data)"
      ],
      "metadata": {
        "colab": {
          "base_uri": "https://localhost:8080/"
        },
        "id": "c_YNcI3BzL4r",
        "outputId": "a0c69f37-3336-436b-c4ff-d80e23e26e4c"
      },
      "execution_count": null,
      "outputs": [
        {
          "output_type": "stream",
          "name": "stdout",
          "text": [
            "596/596 [==============================] - 114s 191ms/step - loss: 0.1218 - accuracy: 0.9597\n"
          ]
        },
        {
          "output_type": "execute_result",
          "data": {
            "text/plain": [
              "[0.12177765369415283, 0.9597315192222595]"
            ]
          },
          "metadata": {},
          "execution_count": 43
        }
      ]
    },
    {
      "cell_type": "code",
      "source": [
        "model.evaluate(validation_generator)"
      ],
      "metadata": {
        "colab": {
          "base_uri": "https://localhost:8080/"
        },
        "id": "0kD5yd_tzjRL",
        "outputId": "e6992a6b-c806-4f0f-c744-5dc6edb22ea1"
      },
      "execution_count": null,
      "outputs": [
        {
          "output_type": "stream",
          "name": "stdout",
          "text": [
            "8463/8463 [==============================] - 1850s 219ms/step - loss: 0.0479 - accuracy: 0.9859\n"
          ]
        }
      ]
    },
    {
      "cell_type": "code",
      "source": [
        "model.evaluate(train_generator)"
      ],
      "metadata": {
        "colab": {
          "base_uri": "https://localhost:8080/"
        },
        "id": "n0GTAIusuT7I",
        "outputId": "4a78215f-cd41-4252-ecde-5950d908a16b"
      },
      "execution_count": null,
      "outputs": [
        {
          "output_type": "stream",
          "name": "stdout",
          "text": [
            "19747/19747 [==============================] - 1584s 80ms/step - loss: 0.0398 - accuracy: 0.9875\n"
          ]
        },
        {
          "output_type": "execute_result",
          "data": {
            "text/plain": [
              "[0.039793457835912704, 0.98749178647995]"
            ]
          },
          "metadata": {},
          "execution_count": 8
        }
      ]
    },
    {
      "cell_type": "code",
      "source": [
        "import matplotlib.pyplot as plt\n",
        "\n",
        "acc = history.history['accuracy']\n",
        "val_acc = history.history['val_accuracy']\n",
        "\n",
        "loss = history.history['loss']\n",
        "val_loss = history.history['val_loss']\n",
        "\n",
        "epochs_range = range(15)\n",
        "\n",
        "plt.figure(figsize=(8, 8))\n",
        "plt.subplot(1, 2, 1)\n",
        "plt.plot(epochs_range, acc, label='Training Accuracy')\n",
        "plt.plot(epochs_range, val_acc, label='Validation Accuracy')\n",
        "plt.legend(loc='lower right')\n",
        "plt.title('Training and Validation Accuracy')\n",
        "\n",
        "plt.subplot(1, 2, 2)\n",
        "plt.plot(epochs_range, loss, label='Training Loss')\n",
        "plt.plot(epochs_range, val_loss, label='Validation Loss')\n",
        "plt.legend(loc='upper right')\n",
        "plt.title('Training and Validation Loss')\n",
        "plt.show()"
      ],
      "metadata": {
        "id": "iJ8p4IY1zX1Q",
        "colab": {
          "base_uri": "https://localhost:8080/",
          "height": 499
        },
        "outputId": "f9bf1eaa-6403-40d4-fa44-299bec92eedb"
      },
      "execution_count": null,
      "outputs": [
        {
          "output_type": "display_data",
          "data": {
            "text/plain": [
              "<Figure size 576x576 with 2 Axes>"
            ],
            "image/png": "[encoded data removed]"
          },
          "metadata": {
            "needs_background": "light"
          }
        }
      ]
    },
    {
      "cell_type": "code",
      "source": [
        "from google.colab.patches import cv2_imshow as imshow\n",
        "import cv2\n",
        "import numpy as np\n",
        "def quantification(image):\n",
        "  mask = cv2.cvtColor(crop_image, cv2.COLOR_BGR2GRAY)\n",
        "  mask = cv2.threshold(mask, 127, 255, cv2.THRESH_BINARY)[1]\n",
        "  mask = cv2.erode(mask, np.ones((8, 0), \"uint8\"))\n",
        "  mask = cv2.dilate(mask, np.ones((16, 0), \"uint8\"))\n",
        "  mask = cv2.medianBlur(mask,5)\n",
        "  ok= cv2.cvtColor(kalla, cv2.COLOR_BGR2GRAY)\n",
        "  half=ok\n",
        "  max = 0\n",
        "  for i in half:\n",
        "    j = 0\n",
        "    while j < len(i):\n",
        "      if i[j] == 0:\n",
        "        p = j\n",
        "        while j < len(i):\n",
        "          if i[j] == 0:\n",
        "            j += 1\n",
        "          else:\n",
        "            break\n",
        "        if max < (j-p):\n",
        "          max = j-p\n",
        "      j+=1\n",
        "  return max\n"
      ],
      "metadata": {
        "id": "sB5r1cLlUVlp"
      },
      "execution_count": null,
      "outputs": []
    }
  ]
}